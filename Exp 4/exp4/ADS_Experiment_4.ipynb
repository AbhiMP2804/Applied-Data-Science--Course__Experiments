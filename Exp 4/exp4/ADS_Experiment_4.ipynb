{
 "cells": [
  {
   "cell_type": "markdown",
   "metadata": {},
   "source": [
    "# Supervised Algorithms\n",
    "---"
   ]
  },
  {
   "cell_type": "markdown",
   "metadata": {
    "id": "aPjrUf57drAM"
   },
   "source": [
    "## 1. Importing dependencies"
   ]
  },
  {
   "cell_type": "code",
   "execution_count": 1,
   "metadata": {
    "executionInfo": {
     "elapsed": 1507,
     "status": "ok",
     "timestamp": 1677580160785,
     "user": {
      "displayName": "Rakshit Deshmukh",
      "userId": "07544043397677935488"
     },
     "user_tz": -330
    },
    "id": "VzU3IPeYcYX0"
   },
   "outputs": [],
   "source": [
    "import pandas as pd\n",
    "import numpy as np\n",
    "import matplotlib.pyplot as plt\n",
    "import seaborn as sns\n",
    "from sklearn import preprocessing"
   ]
  },
  {
   "cell_type": "code",
   "execution_count": 2,
   "metadata": {
    "executionInfo": {
     "elapsed": 2,
     "status": "ok",
     "timestamp": 1677580160785,
     "user": {
      "displayName": "Rakshit Deshmukh",
      "userId": "07544043397677935488"
     },
     "user_tz": -330
    },
    "id": "6q1KW-Bjdhvf"
   },
   "outputs": [],
   "source": [
    "import warnings\n",
    "warnings.filterwarnings('ignore')"
   ]
  },
  {
   "cell_type": "markdown",
   "metadata": {
    "id": "b4WUBlP1dnfD"
   },
   "source": [
    "## 2. Loading the Dataset"
   ]
  },
  {
   "cell_type": "code",
   "execution_count": 3,
   "metadata": {
    "executionInfo": {
     "elapsed": 1,
     "status": "ok",
     "timestamp": 1677580160785,
     "user": {
      "displayName": "Rakshit Deshmukh",
      "userId": "07544043397677935488"
     },
     "user_tz": -330
    },
    "id": "4LnNthq2dl99"
   },
   "outputs": [],
   "source": [
    "df = pd.read_csv('HistoricalQuotes.csv')"
   ]
  },
  {
   "cell_type": "code",
   "execution_count": 4,
   "metadata": {
    "colab": {
     "base_uri": "https://localhost:8080/",
     "height": 206
    },
    "executionInfo": {
     "elapsed": 7,
     "status": "ok",
     "timestamp": 1677580161376,
     "user": {
      "displayName": "Rakshit Deshmukh",
      "userId": "07544043397677935488"
     },
     "user_tz": -330
    },
    "id": "n5jFcqr1d11y",
    "outputId": "eba9aec5-4301-4bfc-b457-61c42825aac2"
   },
   "outputs": [
    {
     "data": {
      "text/html": [
       "<div>\n",
       "<style scoped>\n",
       "    .dataframe tbody tr th:only-of-type {\n",
       "        vertical-align: middle;\n",
       "    }\n",
       "\n",
       "    .dataframe tbody tr th {\n",
       "        vertical-align: top;\n",
       "    }\n",
       "\n",
       "    .dataframe thead th {\n",
       "        text-align: right;\n",
       "    }\n",
       "</style>\n",
       "<table border=\"1\" class=\"dataframe\">\n",
       "  <thead>\n",
       "    <tr style=\"text-align: right;\">\n",
       "      <th></th>\n",
       "      <th>Date</th>\n",
       "      <th>Close/Last</th>\n",
       "      <th>Volume</th>\n",
       "      <th>Open</th>\n",
       "      <th>High</th>\n",
       "      <th>Low</th>\n",
       "    </tr>\n",
       "  </thead>\n",
       "  <tbody>\n",
       "    <tr>\n",
       "      <th>0</th>\n",
       "      <td>02/28/2020</td>\n",
       "      <td>$273.36</td>\n",
       "      <td>106721200</td>\n",
       "      <td>$257.26</td>\n",
       "      <td>$278.41</td>\n",
       "      <td>$256.37</td>\n",
       "    </tr>\n",
       "    <tr>\n",
       "      <th>1</th>\n",
       "      <td>02/27/2020</td>\n",
       "      <td>$273.52</td>\n",
       "      <td>80151380</td>\n",
       "      <td>$281.1</td>\n",
       "      <td>$286</td>\n",
       "      <td>$272.96</td>\n",
       "    </tr>\n",
       "    <tr>\n",
       "      <th>2</th>\n",
       "      <td>02/26/2020</td>\n",
       "      <td>$292.65</td>\n",
       "      <td>49678430</td>\n",
       "      <td>$286.53</td>\n",
       "      <td>$297.88</td>\n",
       "      <td>$286.5</td>\n",
       "    </tr>\n",
       "    <tr>\n",
       "      <th>3</th>\n",
       "      <td>02/25/2020</td>\n",
       "      <td>$288.08</td>\n",
       "      <td>57668360</td>\n",
       "      <td>$300.95</td>\n",
       "      <td>$302.53</td>\n",
       "      <td>$286.13</td>\n",
       "    </tr>\n",
       "    <tr>\n",
       "      <th>4</th>\n",
       "      <td>02/24/2020</td>\n",
       "      <td>$298.18</td>\n",
       "      <td>55548830</td>\n",
       "      <td>$297.26</td>\n",
       "      <td>$304.18</td>\n",
       "      <td>$289.23</td>\n",
       "    </tr>\n",
       "  </tbody>\n",
       "</table>\n",
       "</div>"
      ],
      "text/plain": [
       "         Date  Close/Last     Volume      Open      High       Low\n",
       "0  02/28/2020     $273.36  106721200   $257.26   $278.41   $256.37\n",
       "1  02/27/2020     $273.52   80151380    $281.1      $286   $272.96\n",
       "2  02/26/2020     $292.65   49678430   $286.53   $297.88    $286.5\n",
       "3  02/25/2020     $288.08   57668360   $300.95   $302.53   $286.13\n",
       "4  02/24/2020     $298.18   55548830   $297.26   $304.18   $289.23"
      ]
     },
     "execution_count": 4,
     "metadata": {},
     "output_type": "execute_result"
    }
   ],
   "source": [
    "df.head(5)"
   ]
  },
  {
   "cell_type": "markdown",
   "metadata": {
    "id": "FW1Gb2DKd76S"
   },
   "source": [
    "## 3. EDA"
   ]
  },
  {
   "cell_type": "code",
   "execution_count": 5,
   "metadata": {
    "colab": {
     "base_uri": "https://localhost:8080/"
    },
    "executionInfo": {
     "elapsed": 563,
     "status": "ok",
     "timestamp": 1677580165009,
     "user": {
      "displayName": "Rakshit Deshmukh",
      "userId": "07544043397677935488"
     },
     "user_tz": -330
    },
    "id": "3Yd_3cDAd4X7",
    "outputId": "9d143158-a150-4ed0-c38e-adc8f568331f"
   },
   "outputs": [
    {
     "data": {
      "text/plain": [
       "Date           object\n",
       " Close/Last    object\n",
       " Volume         int64\n",
       " Open          object\n",
       " High          object\n",
       " Low           object\n",
       "dtype: object"
      ]
     },
     "execution_count": 5,
     "metadata": {},
     "output_type": "execute_result"
    }
   ],
   "source": [
    "df.dtypes"
   ]
  },
  {
   "cell_type": "code",
   "execution_count": 6,
   "metadata": {
    "colab": {
     "base_uri": "https://localhost:8080/"
    },
    "executionInfo": {
     "elapsed": 2,
     "status": "ok",
     "timestamp": 1677580165514,
     "user": {
      "displayName": "Rakshit Deshmukh",
      "userId": "07544043397677935488"
     },
     "user_tz": -330
    },
    "id": "-SOzceDGeYLJ",
    "outputId": "fd75a483-9099-4e9c-f3d8-004d74b96e25"
   },
   "outputs": [
    {
     "data": {
      "text/plain": [
       "0"
      ]
     },
     "execution_count": 6,
     "metadata": {},
     "output_type": "execute_result"
    }
   ],
   "source": [
    "df.duplicated().sum()"
   ]
  },
  {
   "cell_type": "code",
   "execution_count": 7,
   "metadata": {
    "colab": {
     "base_uri": "https://localhost:8080/"
    },
    "executionInfo": {
     "elapsed": 1,
     "status": "ok",
     "timestamp": 1677580166031,
     "user": {
      "displayName": "Rakshit Deshmukh",
      "userId": "07544043397677935488"
     },
     "user_tz": -330
    },
    "id": "MQXVQMpJea9y",
    "outputId": "66536e79-784a-449e-9742-3aa1fac78f38"
   },
   "outputs": [
    {
     "data": {
      "text/plain": [
       "Date           0\n",
       " Close/Last    0\n",
       " Volume        0\n",
       " Open          0\n",
       " High          0\n",
       " Low           0\n",
       "dtype: int64"
      ]
     },
     "execution_count": 7,
     "metadata": {},
     "output_type": "execute_result"
    }
   ],
   "source": [
    "df.isna().sum()"
   ]
  },
  {
   "cell_type": "code",
   "execution_count": 8,
   "metadata": {
    "executionInfo": {
     "elapsed": 1,
     "status": "ok",
     "timestamp": 1677580166406,
     "user": {
      "displayName": "Rakshit Deshmukh",
      "userId": "07544043397677935488"
     },
     "user_tz": -330
    },
    "id": "bzYuBca5fWsL"
   },
   "outputs": [],
   "source": [
    "df = df.rename(columns={' Close/Last': 'Close', ' Volume': 'Volume', ' Open': 'Open', ' High': 'High', ' Low': 'Low'})"
   ]
  },
  {
   "cell_type": "code",
   "execution_count": 9,
   "metadata": {
    "executionInfo": {
     "elapsed": 896,
     "status": "ok",
     "timestamp": 1677580168128,
     "user": {
      "displayName": "Rakshit Deshmukh",
      "userId": "07544043397677935488"
     },
     "user_tz": -330
    },
    "id": "AZUBFBPIeewj"
   },
   "outputs": [],
   "source": [
    "df['Close'] = df['Close'].replace({'\\$':''}, regex = True)\n",
    "df['Open'] = df['Open'].replace({'\\$':''}, regex = True)\n",
    "df['High'] = df['High'].replace({'\\$':''}, regex = True)\n",
    "df['Low'] = df['Low'].replace({'\\$':''}, regex = True)"
   ]
  },
  {
   "cell_type": "code",
   "execution_count": 10,
   "metadata": {
    "executionInfo": {
     "elapsed": 5,
     "status": "ok",
     "timestamp": 1677580169873,
     "user": {
      "displayName": "Rakshit Deshmukh",
      "userId": "07544043397677935488"
     },
     "user_tz": -330
    },
    "id": "WEeESmEHf6_j"
   },
   "outputs": [],
   "source": [
    "from sklearn.impute import SimpleImputer\n",
    "imp = SimpleImputer()"
   ]
  },
  {
   "cell_type": "code",
   "execution_count": 11,
   "metadata": {
    "executionInfo": {
     "elapsed": 5,
     "status": "ok",
     "timestamp": 1677580169874,
     "user": {
      "displayName": "Rakshit Deshmukh",
      "userId": "07544043397677935488"
     },
     "user_tz": -330
    },
    "id": "pO-4nsI3gZt8"
   },
   "outputs": [],
   "source": [
    "imp.fit(df.iloc[:, 1:])\n",
    "df.iloc[:,1:] = imp.transform(df.iloc[:,1:])"
   ]
  },
  {
   "cell_type": "code",
   "execution_count": 12,
   "metadata": {
    "executionInfo": {
     "elapsed": 5,
     "status": "ok",
     "timestamp": 1677580169874,
     "user": {
      "displayName": "Rakshit Deshmukh",
      "userId": "07544043397677935488"
     },
     "user_tz": -330
    },
    "id": "6jY7B-X2gk67"
   },
   "outputs": [],
   "source": [
    "df['Volume'] = df['Volume'] / 10000000\n",
    "df.rename(columns = {'Volume':'Volume (10^7)'}, inplace=True)"
   ]
  },
  {
   "cell_type": "code",
   "execution_count": 13,
   "metadata": {
    "colab": {
     "base_uri": "https://localhost:8080/",
     "height": 282
    },
    "executionInfo": {
     "elapsed": 711,
     "status": "ok",
     "timestamp": 1677580170581,
     "user": {
      "displayName": "Rakshit Deshmukh",
      "userId": "07544043397677935488"
     },
     "user_tz": -330
    },
    "id": "2MGfb1TUhGhD",
    "outputId": "629b2659-3143-4924-a3b2-0bd3b81eae0c"
   },
   "outputs": [
    {
     "data": {
      "text/plain": [
       "<AxesSubplot:>"
      ]
     },
     "execution_count": 13,
     "metadata": {},
     "output_type": "execute_result"
    },
    {
     "data": {
      "image/png": "[encoded data removed]",
      "text/plain": [
       "<Figure size 432x288 with 1 Axes>"
      ]
     },
     "metadata": {
      "needs_background": "light"
     },
     "output_type": "display_data"
    }
   ],
   "source": [
    "df.boxplot()"
   ]
  },
  {
   "cell_type": "code",
   "execution_count": 14,
   "metadata": {
    "colab": {
     "base_uri": "https://localhost:8080/",
     "height": 300
    },
    "executionInfo": {
     "elapsed": 380,
     "status": "ok",
     "timestamp": 1677580490797,
     "user": {
      "displayName": "Rakshit Deshmukh",
      "userId": "07544043397677935488"
     },
     "user_tz": -330
    },
    "id": "vrg_6PqOlrt3",
    "outputId": "c05f773e-00ab-402f-8587-d482ac9b589a"
   },
   "outputs": [
    {
     "data": {
      "text/html": [
       "<div>\n",
       "<style scoped>\n",
       "    .dataframe tbody tr th:only-of-type {\n",
       "        vertical-align: middle;\n",
       "    }\n",
       "\n",
       "    .dataframe tbody tr th {\n",
       "        vertical-align: top;\n",
       "    }\n",
       "\n",
       "    .dataframe thead th {\n",
       "        text-align: right;\n",
       "    }\n",
       "</style>\n",
       "<table border=\"1\" class=\"dataframe\">\n",
       "  <thead>\n",
       "    <tr style=\"text-align: right;\">\n",
       "      <th></th>\n",
       "      <th>Close</th>\n",
       "      <th>Volume (10^7)</th>\n",
       "      <th>Open</th>\n",
       "      <th>High</th>\n",
       "      <th>Low</th>\n",
       "    </tr>\n",
       "  </thead>\n",
       "  <tbody>\n",
       "    <tr>\n",
       "      <th>count</th>\n",
       "      <td>2518.000000</td>\n",
       "      <td>2518.000000</td>\n",
       "      <td>2518.000000</td>\n",
       "      <td>2518.000000</td>\n",
       "      <td>2518.000000</td>\n",
       "    </tr>\n",
       "    <tr>\n",
       "      <th>mean</th>\n",
       "      <td>114.769522</td>\n",
       "      <td>7.258009</td>\n",
       "      <td>114.728443</td>\n",
       "      <td>115.766415</td>\n",
       "      <td>113.690582</td>\n",
       "    </tr>\n",
       "    <tr>\n",
       "      <th>std</th>\n",
       "      <td>60.662405</td>\n",
       "      <td>5.663113</td>\n",
       "      <td>60.546893</td>\n",
       "      <td>61.134456</td>\n",
       "      <td>60.085105</td>\n",
       "    </tr>\n",
       "    <tr>\n",
       "      <th>min</th>\n",
       "      <td>29.835700</td>\n",
       "      <td>1.136205</td>\n",
       "      <td>29.392800</td>\n",
       "      <td>29.928600</td>\n",
       "      <td>28.464300</td>\n",
       "    </tr>\n",
       "    <tr>\n",
       "      <th>25%</th>\n",
       "      <td>66.822475</td>\n",
       "      <td>3.053027</td>\n",
       "      <td>66.877150</td>\n",
       "      <td>67.475300</td>\n",
       "      <td>66.372950</td>\n",
       "    </tr>\n",
       "    <tr>\n",
       "      <th>50%</th>\n",
       "      <td>101.090000</td>\n",
       "      <td>5.295469</td>\n",
       "      <td>101.115000</td>\n",
       "      <td>102.085000</td>\n",
       "      <td>100.350000</td>\n",
       "    </tr>\n",
       "    <tr>\n",
       "      <th>75%</th>\n",
       "      <td>154.630000</td>\n",
       "      <td>9.861006</td>\n",
       "      <td>154.610000</td>\n",
       "      <td>155.735000</td>\n",
       "      <td>153.325000</td>\n",
       "    </tr>\n",
       "    <tr>\n",
       "      <th>max</th>\n",
       "      <td>327.200000</td>\n",
       "      <td>46.244233</td>\n",
       "      <td>324.740000</td>\n",
       "      <td>327.850000</td>\n",
       "      <td>323.350000</td>\n",
       "    </tr>\n",
       "  </tbody>\n",
       "</table>\n",
       "</div>"
      ],
      "text/plain": [
       "             Close  Volume (10^7)         Open         High          Low\n",
       "count  2518.000000    2518.000000  2518.000000  2518.000000  2518.000000\n",
       "mean    114.769522       7.258009   114.728443   115.766415   113.690582\n",
       "std      60.662405       5.663113    60.546893    61.134456    60.085105\n",
       "min      29.835700       1.136205    29.392800    29.928600    28.464300\n",
       "25%      66.822475       3.053027    66.877150    67.475300    66.372950\n",
       "50%     101.090000       5.295469   101.115000   102.085000   100.350000\n",
       "75%     154.630000       9.861006   154.610000   155.735000   153.325000\n",
       "max     327.200000      46.244233   324.740000   327.850000   323.350000"
      ]
     },
     "execution_count": 14,
     "metadata": {},
     "output_type": "execute_result"
    }
   ],
   "source": [
    "df.describe()"
   ]
  },
  {
   "cell_type": "markdown",
   "metadata": {
    "id": "yBtu7MHAiGkj"
   },
   "source": [
    "## 4. Implementing Auto-ARIMA"
   ]
  },
  {
   "cell_type": "code",
   "execution_count": 15,
   "metadata": {
    "executionInfo": {
     "elapsed": 361,
     "status": "ok",
     "timestamp": 1677580191913,
     "user": {
      "displayName": "Rakshit Deshmukh",
      "userId": "07544043397677935488"
     },
     "user_tz": -330
    },
    "id": "mQLzbZYYiKQd"
   },
   "outputs": [],
   "source": [
    "df1 = df"
   ]
  },
  {
   "cell_type": "code",
   "execution_count": 16,
   "metadata": {
    "executionInfo": {
     "elapsed": 4,
     "status": "ok",
     "timestamp": 1677580193897,
     "user": {
      "displayName": "Rakshit Deshmukh",
      "userId": "07544043397677935488"
     },
     "user_tz": -330
    },
    "id": "EyNRzVjZhStE"
   },
   "outputs": [],
   "source": [
    "df1['Date'] = pd.to_datetime(df1.Date,format='%m/%d/%Y')\n",
    "df1.index = df1['Date']"
   ]
  },
  {
   "cell_type": "code",
   "execution_count": 17,
   "metadata": {
    "colab": {
     "base_uri": "https://localhost:8080/",
     "height": 238
    },
    "executionInfo": {
     "elapsed": 7,
     "status": "ok",
     "timestamp": 1677580195739,
     "user": {
      "displayName": "Rakshit Deshmukh",
      "userId": "07544043397677935488"
     },
     "user_tz": -330
    },
    "id": "t8SruL-diU88",
    "outputId": "4d75225d-6938-4601-8576-a52a3f92ad33"
   },
   "outputs": [
    {
     "data": {
      "text/html": [
       "<div>\n",
       "<style scoped>\n",
       "    .dataframe tbody tr th:only-of-type {\n",
       "        vertical-align: middle;\n",
       "    }\n",
       "\n",
       "    .dataframe tbody tr th {\n",
       "        vertical-align: top;\n",
       "    }\n",
       "\n",
       "    .dataframe thead th {\n",
       "        text-align: right;\n",
       "    }\n",
       "</style>\n",
       "<table border=\"1\" class=\"dataframe\">\n",
       "  <thead>\n",
       "    <tr style=\"text-align: right;\">\n",
       "      <th></th>\n",
       "      <th>Date</th>\n",
       "      <th>Close</th>\n",
       "      <th>Volume (10^7)</th>\n",
       "      <th>Open</th>\n",
       "      <th>High</th>\n",
       "      <th>Low</th>\n",
       "    </tr>\n",
       "    <tr>\n",
       "      <th>Date</th>\n",
       "      <th></th>\n",
       "      <th></th>\n",
       "      <th></th>\n",
       "      <th></th>\n",
       "      <th></th>\n",
       "      <th></th>\n",
       "    </tr>\n",
       "  </thead>\n",
       "  <tbody>\n",
       "    <tr>\n",
       "      <th>2020-02-28</th>\n",
       "      <td>2020-02-28</td>\n",
       "      <td>273.36</td>\n",
       "      <td>10.672120</td>\n",
       "      <td>257.26</td>\n",
       "      <td>278.41</td>\n",
       "      <td>256.37</td>\n",
       "    </tr>\n",
       "    <tr>\n",
       "      <th>2020-02-27</th>\n",
       "      <td>2020-02-27</td>\n",
       "      <td>273.52</td>\n",
       "      <td>8.015138</td>\n",
       "      <td>281.10</td>\n",
       "      <td>286.00</td>\n",
       "      <td>272.96</td>\n",
       "    </tr>\n",
       "    <tr>\n",
       "      <th>2020-02-26</th>\n",
       "      <td>2020-02-26</td>\n",
       "      <td>292.65</td>\n",
       "      <td>4.967843</td>\n",
       "      <td>286.53</td>\n",
       "      <td>297.88</td>\n",
       "      <td>286.50</td>\n",
       "    </tr>\n",
       "    <tr>\n",
       "      <th>2020-02-25</th>\n",
       "      <td>2020-02-25</td>\n",
       "      <td>288.08</td>\n",
       "      <td>5.766836</td>\n",
       "      <td>300.95</td>\n",
       "      <td>302.53</td>\n",
       "      <td>286.13</td>\n",
       "    </tr>\n",
       "    <tr>\n",
       "      <th>2020-02-24</th>\n",
       "      <td>2020-02-24</td>\n",
       "      <td>298.18</td>\n",
       "      <td>5.554883</td>\n",
       "      <td>297.26</td>\n",
       "      <td>304.18</td>\n",
       "      <td>289.23</td>\n",
       "    </tr>\n",
       "  </tbody>\n",
       "</table>\n",
       "</div>"
      ],
      "text/plain": [
       "                 Date   Close  Volume (10^7)    Open    High     Low\n",
       "Date                                                                \n",
       "2020-02-28 2020-02-28  273.36      10.672120  257.26  278.41  256.37\n",
       "2020-02-27 2020-02-27  273.52       8.015138  281.10  286.00  272.96\n",
       "2020-02-26 2020-02-26  292.65       4.967843  286.53  297.88  286.50\n",
       "2020-02-25 2020-02-25  288.08       5.766836  300.95  302.53  286.13\n",
       "2020-02-24 2020-02-24  298.18       5.554883  297.26  304.18  289.23"
      ]
     },
     "execution_count": 17,
     "metadata": {},
     "output_type": "execute_result"
    }
   ],
   "source": [
    "df1.head(5)"
   ]
  },
  {
   "cell_type": "code",
   "execution_count": 114,
   "metadata": {
    "colab": {
     "base_uri": "https://localhost:8080/",
     "height": 337
    },
    "executionInfo": {
     "elapsed": 1415,
     "status": "ok",
     "timestamp": 1677580173731,
     "user": {
      "displayName": "Rakshit Deshmukh",
      "userId": "07544043397677935488"
     },
     "user_tz": -330
    },
    "id": "RY3F4FdLi1Ic",
    "outputId": "a2c923f9-ef46-498d-c235-d9bf01616600"
   },
   "outputs": [
    {
     "data": {
      "text/plain": [
       "[<matplotlib.lines.Line2D at 0x2978e4afc10>]"
      ]
     },
     "execution_count": 114,
     "metadata": {},
     "output_type": "execute_result"
    },
    {
     "data": {
      "image/png": "[encoded data removed]",
      "text/plain": [
       "<Figure size 1152x360 with 1 Axes>"
      ]
     },
     "metadata": {
      "needs_background": "light"
     },
     "output_type": "display_data"
    }
   ],
   "source": [
    "plt.figure(figsize=(16,5))\n",
    "plt.plot(df1['Close'], label='Close Price history')"
   ]
  },
  {
   "cell_type": "code",
   "execution_count": 21,
   "metadata": {
    "executionInfo": {
     "elapsed": 650,
     "status": "ok",
     "timestamp": 1677580178603,
     "user": {
      "displayName": "Rakshit Deshmukh",
      "userId": "07544043397677935488"
     },
     "user_tz": -330
    },
    "id": "ADKsrfMJjL1i",
    "scrolled": true
   },
   "outputs": [],
   "source": [
    "from pmdarima.arima import auto_arima"
   ]
  },
  {
   "cell_type": "code",
   "execution_count": 108,
   "metadata": {
    "colab": {
     "base_uri": "https://localhost:8080/"
    },
    "executionInfo": {
     "elapsed": 139774,
     "status": "ok",
     "timestamp": 1677580706437,
     "user": {
      "displayName": "Rakshit Deshmukh",
      "userId": "07544043397677935488"
     },
     "user_tz": -330
    },
    "id": "tXK4pdkpkuTk",
    "outputId": "4604a88b-70a4-4275-ecd0-021332fb453f"
   },
   "outputs": [
    {
     "name": "stdout",
     "output_type": "stream",
     "text": [
      "Performing stepwise search to minimize aic\n",
      " ARIMA(1,1,1)(0,1,1)[12]             : AIC=inf, Time=8.98 sec\n",
      " ARIMA(0,1,0)(0,1,0)[12]             : AIC=7254.752, Time=0.12 sec\n",
      " ARIMA(1,1,0)(1,1,0)[12]             : AIC=6701.535, Time=0.37 sec\n",
      " ARIMA(0,1,1)(0,1,1)[12]             : AIC=inf, Time=5.17 sec\n",
      " ARIMA(1,1,0)(0,1,0)[12]             : AIC=7255.748, Time=0.12 sec\n",
      " ARIMA(1,1,0)(2,1,0)[12]             : AIC=6537.920, Time=0.76 sec\n",
      " ARIMA(1,1,0)(2,1,1)[12]             : AIC=inf, Time=11.56 sec\n",
      " ARIMA(1,1,0)(1,1,1)[12]             : AIC=inf, Time=4.63 sec\n",
      " ARIMA(0,1,0)(2,1,0)[12]             : AIC=6538.133, Time=0.57 sec\n",
      " ARIMA(2,1,0)(2,1,0)[12]             : AIC=6538.814, Time=2.76 sec\n",
      " ARIMA(1,1,1)(2,1,0)[12]             : AIC=6539.477, Time=2.70 sec\n",
      " ARIMA(0,1,1)(2,1,0)[12]             : AIC=6537.811, Time=1.43 sec\n",
      " ARIMA(0,1,1)(1,1,0)[12]             : AIC=6701.462, Time=0.70 sec\n",
      " ARIMA(0,1,1)(2,1,1)[12]             : AIC=inf, Time=9.72 sec\n",
      " ARIMA(0,1,1)(1,1,1)[12]             : AIC=inf, Time=6.63 sec\n",
      " ARIMA(0,1,2)(2,1,0)[12]             : AIC=6538.958, Time=0.90 sec\n",
      " ARIMA(1,1,2)(2,1,0)[12]             : AIC=6539.759, Time=2.17 sec\n",
      " ARIMA(0,1,1)(2,1,0)[12] intercept   : AIC=6539.791, Time=3.18 sec\n",
      "\n",
      "Best model:  ARIMA(0,1,1)(2,1,0)[12]          \n",
      "Total fit time: 62.546 seconds\n"
     ]
    },
    {
     "data": {
      "text/plain": [
       "ARIMA(order=(0, 1, 1), scoring_args={}, seasonal_order=(2, 1, 0, 12),\n",
       "      suppress_warnings=True, with_intercept=False)"
      ]
     },
     "execution_count": 108,
     "metadata": {},
     "output_type": "execute_result"
    }
   ],
   "source": [
    "data = df1.sort_index(ascending=True, axis=0)\n",
    "\n",
    "new_data = pd.DataFrame(index=range(0,len(df1)),columns=['Date', 'Close'])\n",
    "\n",
    "for i in range(0,len(data)):\n",
    "     new_data['Date'][i] = data['Date'][i]\n",
    "     new_data['Close'][i] = data['Close'][i]\n",
    "    \n",
    "#### Creating predictions for the validation set and check the RMSE using the actual values. Making predictions:\n",
    "train = new_data[:1763]\n",
    "valid = new_data[1763:]\n",
    "\n",
    "y_train = train['Close']\n",
    "y_valid = valid['Close']\n",
    "\n",
    "model = auto_arima(y_train, start_p=1, start_q=1,max_p=3, max_q=3, m=12,start_P=0, seasonal=True,d=1, D=1, trace=True,error_action='ignore',suppress_warnings=True)\n",
    "model.fit(y_train)"
   ]
  },
  {
   "cell_type": "code",
   "execution_count": 109,
   "metadata": {
    "executionInfo": {
     "elapsed": 516,
     "status": "ok",
     "timestamp": 1677580964662,
     "user": {
      "displayName": "Rakshit Deshmukh",
      "userId": "07544043397677935488"
     },
     "user_tz": -330
    },
    "id": "qp2HwGORmAhr"
   },
   "outputs": [],
   "source": [
    "forecast = model.predict(n_periods=755)\n",
    "forecast = pd.DataFrame(forecast,index = y_valid.index,columns=['Prediction'])"
   ]
  },
  {
   "cell_type": "code",
   "execution_count": 110,
   "metadata": {
    "colab": {
     "base_uri": "https://localhost:8080/"
    },
    "executionInfo": {
     "elapsed": 446,
     "status": "ok",
     "timestamp": 1677581423601,
     "user": {
      "displayName": "Rakshit Deshmukh",
      "userId": "07544043397677935488"
     },
     "user_tz": -330
    },
    "id": "vjSpsyfJlG9T",
    "outputId": "530e9ce6-3af1-477a-b9b9-b2f19b33b84f"
   },
   "outputs": [
    {
     "name": "stdout",
     "output_type": "stream",
     "text": [
      "The Root Mean Square Value : 216.45229926579114\n"
     ]
    }
   ],
   "source": [
    "rms_arima=np.sqrt(np.mean(np.power((np.array(y_valid)-np.array(forecast)),2)))\n",
    "print(f\"The Root Mean Square Value : {rms_arima}\")"
   ]
  },
  {
   "cell_type": "code",
   "execution_count": 111,
   "metadata": {
    "colab": {
     "base_uri": "https://localhost:8080/"
    },
    "executionInfo": {
     "elapsed": 403,
     "status": "ok",
     "timestamp": 1677581725893,
     "user": {
      "displayName": "Rakshit Deshmukh",
      "userId": "07544043397677935488"
     },
     "user_tz": -330
    },
    "id": "vPk_T-p7pkXT",
    "outputId": "dfa413f2-f761-4572-c057-c02cb4a7ee8b"
   },
   "outputs": [
    {
     "name": "stdout",
     "output_type": "stream",
     "text": [
      "The Mean Absolute Error Value : 179.4031199945296\n"
     ]
    }
   ],
   "source": [
    "mae_arima = np.mean(np.absolute(np.array(y_valid)-np.array(forecast)))\n",
    "print(f\"The Mean Absolute Error Value : {mae_arima}\")\n"
   ]
  },
  {
   "cell_type": "code",
   "execution_count": 112,
   "metadata": {
    "colab": {
     "base_uri": "https://localhost:8080/"
    },
    "executionInfo": {
     "elapsed": 1066,
     "status": "ok",
     "timestamp": 1677581832510,
     "user": {
      "displayName": "Rakshit Deshmukh",
      "userId": "07544043397677935488"
     },
     "user_tz": -330
    },
    "id": "o8-gmh4ZqpGe",
    "outputId": "2767a71c-93a5-4596-8cd6-7fd2ef8e38d5",
    "scrolled": true
   },
   "outputs": [
    {
     "name": "stdout",
     "output_type": "stream",
     "text": [
      "The Mean Absolute Percentage Error Value : 0.999106978163917\n"
     ]
    }
   ],
   "source": [
    "mape_arima = np.mean(np.absolute(1-(np.array(forecast) / np.array(y_valid))))\n",
    "print(f\"The Mean Absolute Percentage Error Value : {mape_arima}\")"
   ]
  },
  {
   "cell_type": "code",
   "execution_count": 113,
   "metadata": {
    "colab": {
     "base_uri": "https://localhost:8080/",
     "height": 500
    },
    "executionInfo": {
     "elapsed": 886,
     "status": "ok",
     "timestamp": 1677581042728,
     "user": {
      "displayName": "Rakshit Deshmukh",
      "userId": "07544043397677935488"
     },
     "user_tz": -330
    },
    "id": "ouj8yebuldr0",
    "outputId": "c551e61a-5770-4eaa-ecdd-aa3ae81dd267"
   },
   "outputs": [
    {
     "data": {
      "text/plain": [
       "[<matplotlib.lines.Line2D at 0x297caccbf70>]"
      ]
     },
     "execution_count": 113,
     "metadata": {},
     "output_type": "execute_result"
    },
    {
     "data": {
      "image/png": "[encoded data removed]",
      "text/plain": [
       "<Figure size 1152x360 with 1 Axes>"
      ]
     },
     "metadata": {
      "needs_background": "light"
     },
     "output_type": "display_data"
    }
   ],
   "source": [
    "#plot\n",
    "plt.figure(figsize=(16,5))\n",
    "plt.plot(y_train)\n",
    "plt.plot(y_valid)\n",
    "plt.plot(forecast['Prediction'])"
   ]
  },
  {
   "cell_type": "markdown",
   "metadata": {
    "id": "ho4QhOWkrGBk"
   },
   "source": [
    "## 5. Implementing XGBoost"
   ]
  },
  {
   "cell_type": "code",
   "execution_count": 31,
   "metadata": {
    "executionInfo": {
     "elapsed": 421,
     "status": "ok",
     "timestamp": 1677581920636,
     "user": {
      "displayName": "Rakshit Deshmukh",
      "userId": "07544043397677935488"
     },
     "user_tz": -330
    },
    "id": "wzE4L5nmpWck",
    "scrolled": true
   },
   "outputs": [],
   "source": [
    "import xgboost as xg\n",
    "from sklearn.model_selection import train_test_split"
   ]
  },
  {
   "cell_type": "code",
   "execution_count": 32,
   "metadata": {
    "executionInfo": {
     "elapsed": 404,
     "status": "ok",
     "timestamp": 1677583057782,
     "user": {
      "displayName": "Rakshit Deshmukh",
      "userId": "07544043397677935488"
     },
     "user_tz": -330
    },
    "id": "CT89j1acrWGc"
   },
   "outputs": [],
   "source": [
    "df2 = df\n",
    "df2 = df2.sort_index(ascending=True, axis=0)"
   ]
  },
  {
   "cell_type": "code",
   "execution_count": 33,
   "metadata": {
    "colab": {
     "base_uri": "https://localhost:8080/",
     "height": 238
    },
    "executionInfo": {
     "elapsed": 415,
     "status": "ok",
     "timestamp": 1677583083084,
     "user": {
      "displayName": "Rakshit Deshmukh",
      "userId": "07544043397677935488"
     },
     "user_tz": -330
    },
    "id": "bylB0Ci8vkTI",
    "outputId": "3ac1af31-abc3-47d0-b8a7-3cf6bd411c50"
   },
   "outputs": [
    {
     "data": {
      "text/html": [
       "<div>\n",
       "<style scoped>\n",
       "    .dataframe tbody tr th:only-of-type {\n",
       "        vertical-align: middle;\n",
       "    }\n",
       "\n",
       "    .dataframe tbody tr th {\n",
       "        vertical-align: top;\n",
       "    }\n",
       "\n",
       "    .dataframe thead th {\n",
       "        text-align: right;\n",
       "    }\n",
       "</style>\n",
       "<table border=\"1\" class=\"dataframe\">\n",
       "  <thead>\n",
       "    <tr style=\"text-align: right;\">\n",
       "      <th></th>\n",
       "      <th>Date</th>\n",
       "      <th>Close</th>\n",
       "      <th>Volume (10^7)</th>\n",
       "      <th>Open</th>\n",
       "      <th>High</th>\n",
       "      <th>Low</th>\n",
       "    </tr>\n",
       "    <tr>\n",
       "      <th>Date</th>\n",
       "      <th></th>\n",
       "      <th></th>\n",
       "      <th></th>\n",
       "      <th></th>\n",
       "      <th></th>\n",
       "      <th></th>\n",
       "    </tr>\n",
       "  </thead>\n",
       "  <tbody>\n",
       "    <tr>\n",
       "      <th>2010-03-01</th>\n",
       "      <td>2010-03-01</td>\n",
       "      <td>29.8557</td>\n",
       "      <td>13.731204</td>\n",
       "      <td>29.3928</td>\n",
       "      <td>29.9286</td>\n",
       "      <td>29.3500</td>\n",
       "    </tr>\n",
       "    <tr>\n",
       "      <th>2010-03-02</th>\n",
       "      <td>2010-03-02</td>\n",
       "      <td>29.8357</td>\n",
       "      <td>14.148628</td>\n",
       "      <td>29.9900</td>\n",
       "      <td>30.1186</td>\n",
       "      <td>29.6771</td>\n",
       "    </tr>\n",
       "    <tr>\n",
       "      <th>2010-03-03</th>\n",
       "      <td>2010-03-03</td>\n",
       "      <td>29.9043</td>\n",
       "      <td>9.284649</td>\n",
       "      <td>29.8486</td>\n",
       "      <td>29.9814</td>\n",
       "      <td>29.7057</td>\n",
       "    </tr>\n",
       "    <tr>\n",
       "      <th>2010-03-04</th>\n",
       "      <td>2010-03-04</td>\n",
       "      <td>30.1014</td>\n",
       "      <td>8.959191</td>\n",
       "      <td>29.8971</td>\n",
       "      <td>30.1314</td>\n",
       "      <td>29.8043</td>\n",
       "    </tr>\n",
       "    <tr>\n",
       "      <th>2010-03-05</th>\n",
       "      <td>2010-03-05</td>\n",
       "      <td>31.2786</td>\n",
       "      <td>22.464743</td>\n",
       "      <td>30.7057</td>\n",
       "      <td>31.3857</td>\n",
       "      <td>30.6614</td>\n",
       "    </tr>\n",
       "  </tbody>\n",
       "</table>\n",
       "</div>"
      ],
      "text/plain": [
       "                 Date    Close  Volume (10^7)     Open     High      Low\n",
       "Date                                                                    \n",
       "2010-03-01 2010-03-01  29.8557      13.731204  29.3928  29.9286  29.3500\n",
       "2010-03-02 2010-03-02  29.8357      14.148628  29.9900  30.1186  29.6771\n",
       "2010-03-03 2010-03-03  29.9043       9.284649  29.8486  29.9814  29.7057\n",
       "2010-03-04 2010-03-04  30.1014       8.959191  29.8971  30.1314  29.8043\n",
       "2010-03-05 2010-03-05  31.2786      22.464743  30.7057  31.3857  30.6614"
      ]
     },
     "execution_count": 33,
     "metadata": {},
     "output_type": "execute_result"
    }
   ],
   "source": [
    "df2.head(5)"
   ]
  },
  {
   "cell_type": "code",
   "execution_count": 34,
   "metadata": {
    "executionInfo": {
     "elapsed": 4,
     "status": "ok",
     "timestamp": 1677583059593,
     "user": {
      "displayName": "Rakshit Deshmukh",
      "userId": "07544043397677935488"
     },
     "user_tz": -330
    },
    "id": "47wWrQ4ErLAE"
   },
   "outputs": [],
   "source": [
    "X, y= df2.drop(['Close', 'Date'], axis=1), df2['Close']"
   ]
  },
  {
   "cell_type": "code",
   "execution_count": 35,
   "metadata": {
    "executionInfo": {
     "elapsed": 3,
     "status": "ok",
     "timestamp": 1677583458420,
     "user": {
      "displayName": "Rakshit Deshmukh",
      "userId": "07544043397677935488"
     },
     "user_tz": -330
    },
    "id": "TzW5E75YraLk"
   },
   "outputs": [],
   "source": [
    "# Splitting\n",
    "train_X, test_X, train_y, test_y = train_test_split(X, y, test_size = 0.3, shuffle=False)"
   ]
  },
  {
   "cell_type": "code",
   "execution_count": 36,
   "metadata": {
    "executionInfo": {
     "elapsed": 1,
     "status": "ok",
     "timestamp": 1677583460155,
     "user": {
      "displayName": "Rakshit Deshmukh",
      "userId": "07544043397677935488"
     },
     "user_tz": -330
    },
    "id": "yyFJH6CptMn8"
   },
   "outputs": [],
   "source": [
    "# Train and test set are converted to DMatrix objects,\n",
    "# as it is required by learning API.\n",
    "train_dmatrix = xg.DMatrix(data = train_X, label = train_y)\n",
    "test_dmatrix = xg.DMatrix(data = test_X, label = test_y)"
   ]
  },
  {
   "cell_type": "code",
   "execution_count": 37,
   "metadata": {
    "executionInfo": {
     "elapsed": 383,
     "status": "ok",
     "timestamp": 1677583463151,
     "user": {
      "displayName": "Rakshit Deshmukh",
      "userId": "07544043397677935488"
     },
     "user_tz": -330
    },
    "id": "AmnI9S7NtOkt"
   },
   "outputs": [],
   "source": [
    "# Parameter dictionary specifying base learner\n",
    "param = {\"booster\":\"gblinear\", \"objective\":\"reg:squarederror\"}"
   ]
  },
  {
   "cell_type": "code",
   "execution_count": 38,
   "metadata": {
    "executionInfo": {
     "elapsed": 2,
     "status": "ok",
     "timestamp": 1677583465119,
     "user": {
      "displayName": "Rakshit Deshmukh",
      "userId": "07544043397677935488"
     },
     "user_tz": -330
    },
    "id": "gIqmO6UGtQPE"
   },
   "outputs": [],
   "source": [
    "xgb_r = xg.train(params = param, dtrain = train_dmatrix, num_boost_round = 10)\n",
    "pred = xgb_r.predict(test_dmatrix)"
   ]
  },
  {
   "cell_type": "code",
   "execution_count": 39,
   "metadata": {
    "executionInfo": {
     "elapsed": 593,
     "status": "ok",
     "timestamp": 1677583467777,
     "user": {
      "displayName": "Rakshit Deshmukh",
      "userId": "07544043397677935488"
     },
     "user_tz": -330
    },
    "id": "lM7RDMLCtaMN"
   },
   "outputs": [],
   "source": [
    "from sklearn.metrics import mean_squared_error as MSE"
   ]
  },
  {
   "cell_type": "code",
   "execution_count": 40,
   "metadata": {
    "colab": {
     "base_uri": "https://localhost:8080/"
    },
    "executionInfo": {
     "elapsed": 375,
     "status": "ok",
     "timestamp": 1677583469976,
     "user": {
      "displayName": "Rakshit Deshmukh",
      "userId": "07544043397677935488"
     },
     "user_tz": -330
    },
    "id": "12TzpA-atk0t",
    "outputId": "e71ac106-52ab-44cb-8f51-a15b97f17608",
    "scrolled": true
   },
   "outputs": [
    {
     "name": "stdout",
     "output_type": "stream",
     "text": [
      "RMSE :  14.770982\n"
     ]
    }
   ],
   "source": [
    "# RMSE Computation\n",
    "rmse = np.sqrt(MSE(test_y, pred))\n",
    "print(\"RMSE : % f\" %(rmse))"
   ]
  },
  {
   "cell_type": "code",
   "execution_count": 84,
   "metadata": {
    "scrolled": true
   },
   "outputs": [
    {
     "name": "stdout",
     "output_type": "stream",
     "text": [
      "The Mean Absolute Error Value for XGBoost is : 13.105213104732455\n"
     ]
    }
   ],
   "source": [
    "mae_xgb = np.mean(np.absolute(np.array(test_y)-np.array(pred)))\n",
    "print(f\"The Mean Absolute Error Value for XGBoost is : {mae_xgb}\")"
   ]
  },
  {
   "cell_type": "code",
   "execution_count": 85,
   "metadata": {},
   "outputs": [
    {
     "name": "stdout",
     "output_type": "stream",
     "text": [
      "The Mean Absolute Percentage Error Value : 0.06445964187570392\n"
     ]
    }
   ],
   "source": [
    "mape_xgb = np.mean(np.absolute(1-(np.array(pred) / np.array(test_y))))\n",
    "print(f\"The Mean Absolute Percentage Error Value : {mape_xgb}\")"
   ]
  },
  {
   "cell_type": "code",
   "execution_count": 41,
   "metadata": {
    "executionInfo": {
     "elapsed": 6,
     "status": "ok",
     "timestamp": 1677583605593,
     "user": {
      "displayName": "Rakshit Deshmukh",
      "userId": "07544043397677935488"
     },
     "user_tz": -330
    },
    "id": "vAmaidvDwwfl"
   },
   "outputs": [],
   "source": [
    "predDF = pd.DataFrame(np.squeeze(pred))"
   ]
  },
  {
   "cell_type": "code",
   "execution_count": 51,
   "metadata": {},
   "outputs": [],
   "source": [
    "pred2 = pred\n",
    "test_y1 = test_y"
   ]
  },
  {
   "cell_type": "code",
   "execution_count": 60,
   "metadata": {},
   "outputs": [],
   "source": [
    "pred2.index = test_y1.index"
   ]
  },
  {
   "cell_type": "code",
   "execution_count": 68,
   "metadata": {
    "colab": {
     "base_uri": "https://localhost:8080/",
     "height": 500
    },
    "executionInfo": {
     "elapsed": 716,
     "status": "ok",
     "timestamp": 1677583475537,
     "user": {
      "displayName": "Rakshit Deshmukh",
      "userId": "07544043397677935488"
     },
     "user_tz": -330
    },
    "id": "9bB-_3b2uXz0",
    "outputId": "cbb442ed-c034-4d7f-e145-e893b3232f77",
    "scrolled": true
   },
   "outputs": [
    {
     "data": {
      "text/plain": [
       "[<matplotlib.lines.Line2D at 0x29777bc69d0>]"
      ]
     },
     "execution_count": 68,
     "metadata": {},
     "output_type": "execute_result"
    },
    {
     "data": {
      "image/png": "[encoded data removed]",
      "text/plain": [
       "<Figure size 1152x360 with 1 Axes>"
      ]
     },
     "metadata": {
      "needs_background": "light"
     },
     "output_type": "display_data"
    }
   ],
   "source": [
    "plt.figure(figsize=(16, 5))\n",
    "plt.plot(train_y)\n",
    "plt.plot(test_y)\n",
    "plt.plot(pred2)"
   ]
  },
  {
   "cell_type": "markdown",
   "metadata": {
    "id": "teshAv1mu8C1"
   },
   "source": [
    "## 6. Implementing LSTM"
   ]
  },
  {
   "cell_type": "code",
   "execution_count": 69,
   "metadata": {},
   "outputs": [],
   "source": [
    "#importing required libraries\n",
    "from sklearn.preprocessing import MinMaxScaler\n",
    "from keras.models import Sequential\n",
    "from keras.layers import Dense, Dropout, LSTM"
   ]
  },
  {
   "cell_type": "code",
   "execution_count": 94,
   "metadata": {},
   "outputs": [],
   "source": [
    "df3 = df"
   ]
  },
  {
   "cell_type": "code",
   "execution_count": 95,
   "metadata": {},
   "outputs": [],
   "source": [
    "#creating dataframe\n",
    "data = df3.sort_index(ascending=True, axis=0)\n",
    "new_data = pd.DataFrame(index=range(0,len(df)),columns=['Date', 'Close'])\n",
    "for i in range(0,len(data)):\n",
    "    new_data['Date'][i] = data['Date'][i]\n",
    "    new_data['Close'][i] = data['Close'][i]"
   ]
  },
  {
   "cell_type": "code",
   "execution_count": 96,
   "metadata": {},
   "outputs": [],
   "source": [
    "#setting index\n",
    "new_data.index = new_data.Date\n",
    "new_data.drop('Date', axis=1, inplace=True)"
   ]
  },
  {
   "cell_type": "code",
   "execution_count": 97,
   "metadata": {},
   "outputs": [],
   "source": [
    "#creating train and test sets\n",
    "dataset = new_data.values\n",
    "\n",
    "train = dataset[:1763,:]\n",
    "valid = dataset[1763:,:]"
   ]
  },
  {
   "cell_type": "code",
   "execution_count": 98,
   "metadata": {},
   "outputs": [],
   "source": [
    "#converting dataset into x_train and y_train\n",
    "scaler = MinMaxScaler(feature_range=(0, 1))\n",
    "scaled_data = scaler.fit_transform(dataset)\n",
    "\n",
    "x_train, y_train = [], []\n",
    "for i in range(60,len(train)):\n",
    "    x_train.append(scaled_data[i-60:i,0])\n",
    "    y_train.append(scaled_data[i,0])\n",
    "x_train, y_train = np.array(x_train), np.array(y_train)\n",
    "\n",
    "x_train = np.reshape(x_train, (x_train.shape[0],x_train.shape[1],1))"
   ]
  },
  {
   "cell_type": "code",
   "execution_count": 78,
   "metadata": {
    "scrolled": true
   },
   "outputs": [
    {
     "name": "stdout",
     "output_type": "stream",
     "text": [
      "Epoch 1/10\n",
      "1703/1703 - 27s - loss: 3.2942e-04 - 27s/epoch - 16ms/step\n",
      "Epoch 2/10\n",
      "1703/1703 - 23s - loss: 1.2283e-04 - 23s/epoch - 13ms/step\n",
      "Epoch 3/10\n",
      "1703/1703 - 23s - loss: 9.3385e-05 - 23s/epoch - 13ms/step\n",
      "Epoch 4/10\n",
      "1703/1703 - 23s - loss: 6.6746e-05 - 23s/epoch - 13ms/step\n",
      "Epoch 5/10\n",
      "1703/1703 - 23s - loss: 6.1734e-05 - 23s/epoch - 13ms/step\n",
      "Epoch 6/10\n",
      "1703/1703 - 24s - loss: 5.4501e-05 - 24s/epoch - 14ms/step\n",
      "Epoch 7/10\n",
      "1703/1703 - 25s - loss: 4.8025e-05 - 25s/epoch - 15ms/step\n",
      "Epoch 8/10\n",
      "1703/1703 - 24s - loss: 4.9326e-05 - 24s/epoch - 14ms/step\n",
      "Epoch 9/10\n",
      "1703/1703 - 23s - loss: 4.9830e-05 - 23s/epoch - 14ms/step\n",
      "Epoch 10/10\n",
      "1703/1703 - 23s - loss: 4.6900e-05 - 23s/epoch - 14ms/step\n"
     ]
    },
    {
     "data": {
      "text/plain": [
       "<keras.callbacks.History at 0x2977e5eff10>"
      ]
     },
     "execution_count": 78,
     "metadata": {},
     "output_type": "execute_result"
    }
   ],
   "source": [
    "# create and fit the LSTM network\n",
    "model = Sequential()\n",
    "model.add(LSTM(units=50, return_sequences=True, input_shape=(x_train.shape[1],1)))\n",
    "model.add(LSTM(units=50))\n",
    "model.add(Dense(1))\n",
    "\n",
    "model.compile(loss='mean_squared_error', optimizer='adam')\n",
    "model.fit(x_train, y_train, epochs=10, batch_size=1, verbose=2)"
   ]
  },
  {
   "cell_type": "code",
   "execution_count": 99,
   "metadata": {},
   "outputs": [
    {
     "name": "stdout",
     "output_type": "stream",
     "text": [
      "24/24 [==============================] - 0s 12ms/step\n"
     ]
    }
   ],
   "source": [
    "#predicting values, using past 60 from the train data\n",
    "inputs = new_data[len(new_data) - len(valid) - 60:].values\n",
    "inputs = inputs.reshape(-1,1)\n",
    "inputs  = scaler.transform(inputs)\n",
    "\n",
    "X_test = []\n",
    "for i in range(60,inputs.shape[0]):\n",
    "    X_test.append(inputs[i-60:i,0])\n",
    "X_test = np.array(X_test)\n",
    "\n",
    "X_test = np.reshape(X_test, (X_test.shape[0],X_test.shape[1],1))\n",
    "closing_price = model.predict(X_test)\n",
    "closing_price = scaler.inverse_transform(closing_price)"
   ]
  },
  {
   "cell_type": "code",
   "execution_count": 100,
   "metadata": {
    "scrolled": false
   },
   "outputs": [
    {
     "name": "stdout",
     "output_type": "stream",
     "text": [
      "The Root Mean Square Value : 5.633869531903566\n"
     ]
    }
   ],
   "source": [
    "rms=np.sqrt(np.mean(np.power((valid-closing_price),2)))\n",
    "print(f\"The Root Mean Square Value : {rms}\")"
   ]
  },
  {
   "cell_type": "code",
   "execution_count": 103,
   "metadata": {
    "scrolled": true
   },
   "outputs": [
    {
     "name": "stdout",
     "output_type": "stream",
     "text": [
      "The Mean Absolute Error Value for LSTM is : 3.5884187569523474\n"
     ]
    }
   ],
   "source": [
    "mae_lstm = np.mean(np.absolute(np.array(closing_price)-np.array(valid)))\n",
    "print(f\"The Mean Absolute Error Value for LSTM is : {mae_lstm}\")"
   ]
  },
  {
   "cell_type": "code",
   "execution_count": 104,
   "metadata": {},
   "outputs": [
    {
     "name": "stdout",
     "output_type": "stream",
     "text": [
      "The Mean Absolute Percentage Error Value : 0.016842609935427074\n"
     ]
    }
   ],
   "source": [
    "mape_lstm = np.mean(np.absolute(1-(np.array(closing_price) / np.array(valid))))\n",
    "print(f\"The Mean Absolute Percentage Error Value : {mape_lstm}\")"
   ]
  },
  {
   "cell_type": "code",
   "execution_count": 82,
   "metadata": {},
   "outputs": [
    {
     "data": {
      "text/plain": [
       "[<matplotlib.lines.Line2D at 0x2977f852bb0>,\n",
       " <matplotlib.lines.Line2D at 0x2977f852c40>]"
      ]
     },
     "execution_count": 82,
     "metadata": {},
     "output_type": "execute_result"
    },
    {
     "data": {
      "image/png": "[encoded data removed]",
      "text/plain": [
       "<Figure size 1152x360 with 1 Axes>"
      ]
     },
     "metadata": {
      "needs_background": "light"
     },
     "output_type": "display_data"
    }
   ],
   "source": [
    "#for plotting\n",
    "train = new_data[:1763]\n",
    "valid = new_data[1763:]\n",
    "valid['Predictions'] = closing_price\n",
    "plt.figure(figsize=(16, 5))\n",
    "plt.plot(train['Close'])\n",
    "plt.plot(valid[['Close','Predictions']])"
   ]
  },
  {
   "cell_type": "markdown",
   "metadata": {},
   "source": [
    "## 7. Supervised Algorithms Results"
   ]
  },
  {
   "cell_type": "markdown",
   "metadata": {},
   "source": [
    "| Parameter | Auto-ARIMA | XGBoost | LSTM |\n",
    "| ----------- | ----------- | ----------- | ----------- |\n",
    "| Root Mean Square Error | 216.45 | 14.77 | 5.63 |\n",
    "| Mean Absolute Error | 179.40 | 13.10 | 3.58 |\n",
    "| Mean Absolute Percentage Error | 0.99 | 0.064 | 0.016 |"
   ]
  }
 ],
 "metadata": {
  "colab": {
   "authorship_tag": "ABX9TyP5CXBAEr00ZtVr7vfeXwhR",
   "provenance": []
  },
  "kernelspec": {
   "display_name": "Python 3 (ipykernel)",
   "language": "python",
   "name": "python3"
  },
  "language_info": {
   "codemirror_mode": {
    "name": "ipython",
    "version": 3
   },
   "file_extension": ".py",
   "mimetype": "text/x-python",
   "name": "python",
   "nbconvert_exporter": "python",
   "pygments_lexer": "ipython3",
   "version": "3.9.12"
  }
 },
 "nbformat": 4,
 "nbformat_minor": 1
}
